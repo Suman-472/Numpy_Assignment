{
  "nbformat": 4,
  "nbformat_minor": 0,
  "metadata": {
    "colab": {
      "provenance": []
    },
    "kernelspec": {
      "name": "python3",
      "display_name": "Python 3"
    },
    "language_info": {
      "name": "python"
    }
  },
  "cells": [
    {
      "cell_type": "markdown",
      "source": [
        "Theory Assignment"
      ],
      "metadata": {
        "id": "UPt3XevM6Gbk"
      }
    },
    {
      "cell_type": "code",
      "source": [
        "# 1.  Explain the purpose and advantages of NumPy in scientific computing and data analysis. How does it enhance Python's capabilities for numerical operations?\n",
        "\n",
        "\n",
        "## NumPy is a fundamental library for scientific computing and data analysis in Python.\n",
        "     # It provides efficient multi-dimensional arrays and a vast collection of mathematical functions to operate on these arrays.\n",
        "\n",
        "    # Purpose:\n",
        "           # Efficient Numerical Operations:\n",
        "                          # NumPy's arrays are optimized for numerical computations, offering significantly faster performance compared to Python's built-in lists.\n",
        "           # Broad Range of Mathematical Functions:\n",
        "                          # NumPy provides a comprehensive set of mathematical functions, including trigonometric, logarithmic, exponential, and statistical operations.\n",
        "           # Linear Algebra and Fourier Transforms:\n",
        "                          # NumPy efficiently handles linear algebra operations like matrix multiplication, inversion, and eigenvalue decomposition, as well as Fourier transforms for signal processing and data analysis.\n",
        "     # Advantages:\n",
        "           # Performance:\n",
        "                        # NumPy's optimized array operations and efficient algorithms make it much faster than Python's standard data structures for numerical computations.\n",
        "           # Memory Efficiency:\n",
        "                        # NumPy arrays are stored in contiguous memory blocks, reducing memory overhead and improving performance.\n",
        "           # Integration with Other Libraries:\n",
        "                        # NumPy seamlessly integrates with other scientific computing libraries like SciPy, Matplotlib, and Pandas, making it a versatile tool for data analysis and visualization.\n",
        "           # Ease of Use:\n",
        "                        # NumPy's intuitive syntax and extensive documentation make it easy to learn and use, even for those with limited programming experience.\n",
        "\n",
        "  # NumPy Enhances Python's Capabilities:\n",
        "           # Efficient Numerical Operations:\n",
        "                    # NumPy provides optimized array operations that are much faster than Python's built-in lists, making it ideal for tasks like matrix multiplication, statistical calculations, and signal processing.\n",
        "           # Broad Range of Mathematical Functions:\n",
        "                    # NumPy offers a comprehensive set of mathematical functions, allowing you to perform complex calculations without writing custom code.\n",
        "           # Linear Algebra and Fourier Transforms:\n",
        "                    # NumPy's efficient implementation of linear algebra and Fourier transform operations enables you to solve mathematical problems and analyze data more effectively.\n",
        "           # Integration with Other Libraries:\n",
        "                    # NumPy's seamless integration with other scientific computing libraries like SciPy, Matplotlib, and Pandas extends its capabilities and makes it a powerful tool for data analysis and visualization."
      ],
      "metadata": {
        "id": "FHycuI4Y6ZHY"
      },
      "execution_count": null,
      "outputs": []
    },
    {
      "cell_type": "code",
      "source": [
        "# 2. Compare and contrast np.mean() and np.average() functions in NumPy. When would you use one over the other?\n",
        "\n",
        "\n",
        "##  np.mean() and np.average() in NumPy are both used to calculate the average of an array, but they have slight differences in their functionality.Here’s a comparison:\n",
        "    # np.mean():\n",
        "           # Purpose: Computes the arithmetic mean (average) of array elements.\n",
        "           # Syntax: np.mean(array, axis=None, dtype=None, out=None, keepdims=<no value>, where=<no value>)\n",
        "           # Parameters:\n",
        "                      # array: Input array.\n",
        "                      # axis: Axis along which the means are computed. Default is to compute the mean of the flattened array.\n",
        "                      # dtype: Data type to use in computing the mean.\n",
        "                      # out: Alternate output array to place the result.\n",
        "                      # keepdims: If set to True, the reduced axes are left in the result as dimensions with size one.\n",
        "                      # where: Elements to include in the mean calculation.\n",
        "            # Example:\n",
        "                    import numpy as np\n",
        "\n",
        "                    array = np.array([5,6,7,8,9])\n",
        "                    mean_value = np.mean(array)\n",
        "                    print(\"Mean value:\", mean_value)    # Output: Mean value: 7.0\n",
        "    # np.average():\n",
        "           # Purpose: Computes the weighted average of array elements if weights are provided; otherwise, it calculates the arithmetic mean.\n",
        "           # Syntax: np.average(array, axis=None, weights=None, returned=False)\n",
        "           # Parameters:\n",
        "                      # array: Input array.\n",
        "                      # axis: Axis along which the averages are computed.\n",
        "                      # weights: An array of weights associated with the values in the input array.\n",
        "                      # returned: If True, returns a tuple containing the average and the sum of the weights.\n",
        "           # Example:\n",
        "                    import numpy as np\n",
        "\n",
        "                    array = [1, 2, 3, 4, 5]\n",
        "                    weights = [0.1, 0.2, 0.3, 0.4, 0.5]\n",
        "                    weighted_avg = np.average(array, weights=weights)\n",
        "                    print(weighted_avg)      # Output: 3.6666666666666665\n",
        "\n",
        "    # When to Use Which:\n",
        "                  # Use np.mean():\n",
        "                               # When you need to calculate the simple arithmetic mean of an array without considering any weights.\n",
        "                  # Use np.average():\n",
        "                                # When you need to calculate a weighted average, where different elements contribute differently to the final average."
      ],
      "metadata": {
        "id": "c538Hh6-rdJZ"
      },
      "execution_count": null,
      "outputs": []
    },
    {
      "cell_type": "code",
      "source": [
        "# 3. Describe the methods for reversing a NumPy array along different axes. Provide examples for 1D and 2D arrays.\n",
        "\n",
        "## Reversing a NumPy array can be done using several methods, each suitable for different scenarios.\n",
        "    # Here are some common methods to reverse arrays along different axes, with examples for both 1D and 2D arrays:\n",
        "\n",
        "       # 1. Reversing along the First Axis (Rows):\n",
        "                        # np.flip(array, axis=0): Reverses the array along the first axis (rows).\n",
        "                        # Example:\n",
        "                                import numpy as np\n",
        "\n",
        "                                array = np.array([[1, 2, 3],\n",
        "                                                  [4, 5, 6]])\n",
        "\n",
        "                                reversed_array = np.flip(array, axis=0)\n",
        "                                print(reversed_array)     # Output: [[4 5 6]\n",
        "                                                                     [1 2 3]]\n",
        "       # 2. Reversing along the Second Axis (Columns):\n",
        "                        # np.flip(array, axis=1): Reverses the array along the second axis (columns).\n",
        "                        # Example:\n",
        "                                 import numpy as np\n",
        "\n",
        "                                 array = np.array([[1, 2, 3],\n",
        "                                                   [4, 5, 6]])\n",
        "\n",
        "                                 reversed_array = np.flip(array, axis=1)\n",
        "                                 print(reversed_array)     # Output: [[3 2 1]\n",
        "                                                                      [6 5 4]]\n",
        "       # 3. Reversing along Multiple Axes:\n",
        "                        # np.flip(array, axis=(0, 1)): Reverses the array along both the first and second axes.\n",
        "                        # Example:\n",
        "                                 import numpy as np\n",
        "\n",
        "                                 array = np.array([[1, 2, 3],\n",
        "                                                   [4, 5, 6]])\n",
        "\n",
        "                                 reversed_array = np.flip(array, axis=(0, 1))\n",
        "                                 print(reversed_array)     # Output: [[6 5 4]\n",
        "                                                                      [3 2 1]]\n",
        "       # 4. Reversing a 1D Array:\n",
        "                        # np.flip(array): Reverses the 1D array.\n",
        "                        # Example:\n",
        "                                 import numpy as np\n",
        "\n",
        "                                 array = np.array([1, 2, 3])\n",
        "\n",
        "                                 reversed_array = np.flip(array)\n",
        "                                 print(reversed_array)      # Output: [3 2 1]\n",
        "   # Here are examples of 1D and 2D arrays:\n",
        "           # 1D Array:\n",
        "                     array = [1, 2, 3, 4, 5]\n",
        "                     print(array)     # Output: [1, 2, 3, 4, 5]\n",
        "           # 2D Array:\n",
        "                     array = [[1, 2, 3],\n",
        "                              [4, 5, 6],\n",
        "                              [7, 8, 9]]\n",
        "                     print(array)    # Output: [[1, 2, 3], [4, 5, 6], [7, 8, 9]]"
      ],
      "metadata": {
        "id": "YGm5iG5Kriqj"
      },
      "execution_count": null,
      "outputs": []
    },
    {
      "cell_type": "code",
      "source": [
        "# 4. How can you determine the data type of elements in a NumPy array? Discuss the importance of data types in memory management and performance.\n",
        "\n",
        "## Determining Data Type of Elements in a NumPy Array:\n",
        "      # In NumPy, each array has a specific data type associated with its elements.\n",
        "      # This data type determines the size of each element in memory and the operations that can be performed on them.\n",
        "   # Methods to Determine Data Type:\n",
        "           # 1. dtype Attribute:\n",
        "                             # The most direct way is to access the dtype attribute of the array:\n",
        "                                                                                               import numpy as np\n",
        "\n",
        "                                                                                               array = np.array([1, 2, 3, 4])\n",
        "                                                                                               print(array.dtype)    # Output: int32\n",
        "           # 2. type() Function:\n",
        "                              # You can use the built-in type() function to get the type of the array itself, but this will return numpy.ndarray:\n",
        "                                                                                                                          print(type(array))   # Output: <class 'numpy.ndarray'>\n",
        "           # 3. isinstance() Function:\n",
        "                                   # If you need to check if an array's elements are of a specific data type, use isinstance():\n",
        "                                                                                                                     print(isinstance(array.item(0), int))  # Output: True\n",
        "\n",
        "   # Importance of Data Types in Memory Management and Performance\n",
        "      # Memory Management:\n",
        "                   # Efficient Storage:\n",
        "                                    # NumPy allocates memory for an array based on its data type. Using the appropriate data type can significantly reduce memory usage.\n",
        "                                    #  For example, storing integers as int8 instead of int64 can save a lot of space.\n",
        "                   # Memory Alignment:\n",
        "                                   # NumPy often aligns elements in memory to improve performance. Mismatched data types can lead to inefficient memory access.\n",
        "      # Performance:\n",
        "                   # Optimized Operations:\n",
        "                                        # NumPy's operations are optimized for specific data types. Using the correct data type can result in faster computations.\n",
        "                                        # For instance, operations on floating-point numbers are generally slower than those on integers.\n",
        "                   # Avoid Type Conversions:\n",
        "                                          # Unnecessary type conversions can introduce overhead and slow down computations.\n",
        "                                          # Choosing the right data type upfront can prevent these conversions."
      ],
      "metadata": {
        "id": "pH-x5T_cM4OC"
      },
      "execution_count": null,
      "outputs": []
    },
    {
      "cell_type": "code",
      "source": [
        "# 5.  Define ndarrays in NumPy and explain their key features. How do they differ from standard Python lists?\n",
        "\n",
        "## NumPy ndarrays:\n",
        "                # In NumPy, an ndarray (N-dimensional array) is a powerful data structure used for numerical computations.\n",
        "                # It is a grid of values, all of the same type, indexed by a tuple of non-negative integers.\n",
        "                # The number of dimensions is defined by the array’s ndim attribute, and the shape of the array is defined by the shape attribute.\n",
        "    # Key Features of NumPy ndarrays:\n",
        "               # 1. Homogeneous Data Type:\n",
        "                                           # All elements within a NumPy ndarray must be of the same data type (e.g., int32, float64, bool).\n",
        "                                           # This ensures efficient memory usage and optimized operations.\n",
        "               # 2. Fixed Size:\n",
        "                             # The size of a NumPy ndarray is fixed once created. This allows for efficient memory allocation and optimized algorithms.\n",
        "               # 3. Multi-Dimensional:\n",
        "                                    # ndarrays can have any number of dimensions, from 0-dimensional scalars to higher-dimensional arrays like matrices and tensors.\n",
        "               # 4. Vectorized Operations:\n",
        "                                        # NumPy supports vectorized operations, allowing you to perform operations on entire arrays without explicit loops.\n",
        "                                        # This significantly improves performance.\n",
        "               # 5. Broadcasting:\n",
        "                               # NumPy has a powerful broadcasting mechanism that allows arrays of different shapes to be compatible for arithmetic operations.\n",
        "               # 6. Indexing and Slicing:\n",
        "                                       # You can access and manipulate elements within ndarrays using indexing and slicing operations, similar to Python lists.\n",
        "               # 7. Shape and Size:\n",
        "                                  # Each ndarray has a shape, which is a tuple representing the size of the array along each dimension.\n",
        "                                  # The size of an array is the total number of elements.\n",
        "\n",
        "     # Differences from Standard Python Lists:\n",
        "              # While both NumPy ndarrays and Python lists can store collections of elements, they have significant differences:\n",
        "                      # Data Type:\n",
        "                                # NumPy ndarrays require all elements to have the same data type, while Python lists can store elements of mixed types.\n",
        "                      # Performance:\n",
        "                                  # NumPy ndarrays are typically much faster than Python lists for numerical operations due to vectorization and optimized implementations.\n",
        "                      # Memory Efficiency:\n",
        "                                         # NumPy ndarrays are often more memory-efficient than Python lists, especially for large arrays.\n",
        "                      # Functionality:\n",
        "                                    # NumPy ndarrays provide a wide range of functions and methods specifically designed for numerical computations, such as mathematical operations, linear algebra, and Fourier transforms."
      ],
      "metadata": {
        "id": "qQnC7X6jVeRL"
      },
      "execution_count": null,
      "outputs": []
    },
    {
      "cell_type": "code",
      "source": [
        "# 6. Analyze the performance benefits of NumPy arrays over Python lists for large-scale numerical operations.\n",
        "\n",
        "## Performance Benefits of NumPy Arrays Over Python Lists\n",
        "    # When it comes to large-scale numerical operations, NumPy arrays offer several significant performance benefits over standard Python lists:\n",
        "       # 1. Vectorization:\n",
        "                   # NumPy's Strength:\n",
        "                                    # NumPy arrays are designed for efficient vectorized operations.\n",
        "                                    # This means that operations can be performed on entire arrays at once, without the need for explicit loops.\n",
        "                   # Python Lists' Weakness:\n",
        "                                    # Python lists require explicit loops for most numerical operations, which can be slow, especially for large datasets.\n",
        "       # 2. Data Type Homogeneity:\n",
        "                   # NumPy's Advantage:\n",
        "                                   # All elements in a NumPy array must be of the same data type. This allows for efficient memory allocation and optimized operations.\n",
        "                   # Python Lists' Drawback:\n",
        "                                   # Python lists can store elements of mixed data types, which can lead to inefficient memory management and slower operations.\n",
        "       # 3.  Memory Layout:\n",
        "                   # NumPy's Efficiency:\n",
        "                                   # NumPy arrays are stored in contiguous memory blocks, which is ideal for efficient access and manipulation.\n",
        "                   # Python Lists' Inefficiency:\n",
        "                                   # Python lists may not always be stored in contiguous memory, which can lead to slower access times.\n",
        "       # 4. Optimized C Implementation:\n",
        "                   # NumPy's Speed:\n",
        "                                 # Many NumPy operations are implemented in C, which is a much faster language than Python. This provides significant performance gains.\n",
        "                   # Python Lists' Slowness:\n",
        "                                 # Python lists are implemented in Python, which can be slower for computationally intensive tasks.\n",
        "       # 5. Broadcasting:\n",
        "                  # NumPy's Flexibility:\n",
        "                                 # NumPy's broadcasting mechanism allows for efficient operations on arrays of different shapes.\n",
        "                  # Python Lists' Limitations:\n",
        "                                 # Python lists lack a built-in broadcasting mechanism, making it more difficult to perform operations on arrays of different sizes.\n",
        "   # Example:\n",
        "            import numpy as np\n",
        "            import time\n",
        "\n",
        "            n = 1000000\n",
        "            np_array = np.random.rand(n)\n",
        "            py_list = list(np_array)\n",
        "\n",
        "            start = time.time()\n",
        "            np_result = np_array * 2\n",
        "            end = time.time()\n",
        "            np_time = end - start\n",
        "\n",
        "            start = time.time()\n",
        "            py_result = [x * 2 for x in py_list]\n",
        "            end = time.time()\n",
        "            py_time = end - start\n",
        "\n",
        "            print(\"NumPy time:\", np_time)\n",
        "            print(\"Python list time:\", py_time)\n",
        "\n",
        "            # Output: NumPy time: 0.0030679702758789062\n",
        "                      Python list time: 0.060079097747802734"
      ],
      "metadata": {
        "id": "1VBVNe9eYbY8"
      },
      "execution_count": null,
      "outputs": []
    },
    {
      "cell_type": "code",
      "source": [
        "# 7. Compare vstack() and hstack() functions in NumPy. Provide examples demonstrating their usage and output.\n",
        "\n",
        "## Comparing vstack() and hstack() in NumPy:\n",
        "       # Both vstack() and hstack() are functions in NumPy used to stack arrays, but they do so in different orientations.\n",
        "\n",
        "       # vstack(): Stacks arrays vertically (row-wise).\n",
        "       # hstack(): Stacks arrays horizontally (column-wise).\n",
        "\n",
        "       # vstack():\n",
        "                # Functionality: Stacks arrays in sequence vertically (row-wise).\n",
        "                # Usage: Takes a sequence of arrays and combines them along the first axis (axis 0).\n",
        "                # Requirement: The input arrays must have the same shape along all but the first axis.\n",
        "                # Example:\n",
        "                         import numpy as np\n",
        "\n",
        "                         array1 = np.array([[1, 2],\n",
        "                                           [3, 4]])\n",
        "\n",
        "                         array2 = np.array([[5, 6],\n",
        "                                           [7, 8]])\n",
        "\n",
        "                         stacked_array = np.vstack((array1, array2))\n",
        "                         print(stacked_array)\n",
        "                         # Output: [[1 2]\n",
        "                                    [3 4]\n",
        "                                    [5 6]\n",
        "                                    [7 8]]\n",
        "       # hstack():\n",
        "                # Functionality: Stacks arrays in sequence horizontally (column-wise).\n",
        "                # Usage: Takes a sequence of arrays and combines them along the second axis (axis 1).\n",
        "                # Requirement: The input arrays must have the same shape along all but the second axis.\n",
        "                # Example:\n",
        "                         array1 = np.array([[1, 2],\n",
        "                                           [3, 4]])\n",
        "\n",
        "                         array2 = np.array([[5, 6],\n",
        "                                           [7, 8]])\n",
        "\n",
        "                         stacked_array = np.hstack((array1, array2))\n",
        "                         print(stacked_array)\n",
        "                         # Output: [[1 2 5 6]\n",
        "                                    [3 4 7 8]]\n",
        "    # Key Differences:\n",
        "              # Orientation: vstack() stacks arrays vertically, while hstack() stacks them horizontally.\n",
        "              # Axis: vstack() operates along axis=0, and hstack() operates along axis=1.\n",
        "              # Use Cases: Use vstack() when you want to add rows to an array, and hstack() when you want to add columns."
      ],
      "metadata": {
        "id": "mvi_onOyb-Qx"
      },
      "execution_count": null,
      "outputs": []
    },
    {
      "cell_type": "code",
      "source": [
        "# 8. Explain the differences between fliplr() and flipud() methods in NumPy, including their effects on various array dimensions.\n",
        "\n",
        "## The fliplr() and flipud() methods in NumPy are used to flip arrays, but they do so in different directions. Here’s a detailed explanation:\n",
        "        # fliplr():\n",
        "                 # Function: numpy.fliplr(m)\n",
        "                 # Description: Flips the array in the left/right direction (i.e., horizontally)\n",
        "                 # Effect: Reverses the order of columns in each row.\n",
        "                 # Applicable Dimensions: Requires the input array to be at least 2-dimensional.\n",
        "                 # Example:\n",
        "                          import numpy as np\n",
        "                          A = np.array([[1, 2, 3], [4, 5, 6], [7, 8, 9]])\n",
        "                          print(np.fliplr(A))\n",
        "                          # Output: [[3 2 1]\n",
        "                                     [6 5 4]\n",
        "                                     [9 8 7]]\n",
        "        # flipud():\n",
        "                 # Function: numpy.flipud(m)\n",
        "                 # Description: Flips the array in the up/down direction (i.e., vertically).\n",
        "                 # Effect: Reverses the order of rows.\n",
        "                 # Applicable Dimensions: Can be used on arrays of any dimension.\n",
        "                 # Example:\n",
        "                          import numpy as np\n",
        "                          A = np.array([[1, 2, 3], [4, 5, 6], [7, 8, 9]])\n",
        "                          print(np.flipud(A))\n",
        "                          # Output: [[7 8 9]\n",
        "                                     [4 5 6]\n",
        "                                     [1 2 3]]\n",
        "     # Effects on Different Array Dimensions:\n",
        "              # 1D Array: Both fliplr() and flipud() will reverse the order of elements.\n",
        "              # 2D Array: fliplr() reverses the order of elements in each row, while flipud() reverses the order of elements in each column.\n",
        "              # 3D Array: fliplr() reverses the order of elements in each row within each layer, while flipud() reverses the order of elements in each column within each layer.\n",
        "     # Key Points:\n",
        "              # fliplr() and flipud() are useful for reversing the order of elements in specific dimensions of an array.\n",
        "              # The choice between fliplr() and flipud() depends on the desired flipping direction (last axis or first axis).\n",
        "              # Understanding the effects of these methods on different array dimensions is essential for effective data manipulation in NumPy."
      ],
      "metadata": {
        "id": "omogvnWKqSwl"
      },
      "execution_count": null,
      "outputs": []
    },
    {
      "cell_type": "code",
      "source": [
        "# 9. Discuss the functionality of the array_split() method in NumPy. How does it handle uneven splits?\n",
        "\n",
        "## The array_split() method in NumPy is used to split an array into multiple sub-arrays. It provides a flexible way to partition data based on various requirements.\n",
        "       # Functionality:\n",
        "             # Function: numpy.array_split(ary, indices_or_sections, axis=0)\n",
        "             # Description: Splits an array into multiple sub-arrays along a specified axis.\n",
        "             # Parameters:\n",
        "                       # ary: The input array to be split.\n",
        "                       # indices_or_sections: If an integer, it indicates the number of equal or near-equal sub-arrays to create. If a list of sorted integers, it specifies the points at which to split the array.\n",
        "                       # axis: The axis along which to split the array (default is 0).\n",
        "      # Handling Uneven Splits:\n",
        "              # When the array length is not evenly divisible by the number of splits, the array_split() method distributes the extra elements as evenly as possible among the sub-arrays.\n",
        "              # The first sub-array will have one more element than the rest if the remainder is 1.\n",
        "              # If the remainder is 2, the first two sub-arrays will have one more element each.\n",
        "              # This ensures that the sub-arrays are balanced and the data is partitioned fairly.\n",
        "          # Example:\n",
        "                   import numpy as np\n",
        "\n",
        "                   arr = np.array([1, 2, 3, 4, 5, 6, 7])\n",
        "\n",
        "                   sub_arrays = np.array_split(arr, 3)\n",
        "\n",
        "                   print(sub_arrays)\n",
        "                   # Output: [array([1, 2, 3]), array([4, 5]), array([6, 7])]\n",
        "                   # In this example, the array is split into 3 sub-arrays. The first two sub-arrays have 3 elements each, while the last sub-array has 2 elements, ensuring a balanced distribution."
      ],
      "metadata": {
        "id": "suyDE86mfmoy"
      },
      "execution_count": null,
      "outputs": []
    },
    {
      "cell_type": "code",
      "source": [
        "# 10. Explain the concepts of vectorization and broadcasting in NumPy. How do they contribute to efficient array operations?\n",
        "\n",
        "##  Vectorization and broadcasting are fundamental concepts in NumPy that significantly enhance the efficiency of array operations.\n",
        "    # They allow for element-wise operations on entire arrays without the need for explicit loops, leading to substantial performance improvements.\n",
        "\n",
        "    # Vectorization:\n",
        "             # Definition:\n",
        "                        # Vectorization is the process of performing operations on entire arrays without using explicit loops.\n",
        "                        # NumPy is optimized for vectorized operations, which are executed in highly efficient compiled code.\n",
        "             # Benefits:\n",
        "                       # Speed: Vectorized operations are much faster than equivalent Python loops, especially for large arrays.\n",
        "                       # Readability: Vectorized code is often more concise and easier to understand.\n",
        "                       # Memory Efficiency: Vectorized operations can be more memory-efficient than explicit loops.\n",
        "              # Example:\n",
        "                       import numpy as np\n",
        "\n",
        "                       arr1 = np.array([1, 2, 3, 4])\n",
        "                       arr2 = np.array([5, 6, 7, 8])\n",
        "                       result = arr1 + arr2\n",
        "                       print(\"Array 1:\")\n",
        "                       print(arr1)    # Output: Array 1:\n",
        "                                                [1 2 3 4]\n",
        "                       print(\"Array 2:\")\n",
        "                       print(arr2)    # Output: Array 2:\n",
        "                                                [5 6 7 8]\n",
        "                       print(\"Result after Vectorized Addition:\")\n",
        "                       print(result)   # Output: Result after Vectorized Addition:\n",
        "                                                 [ 6  8 10 12]\n",
        "    # Broadcasting:\n",
        "              # Definition:\n",
        "                           # Broadcasting is a set of rules that NumPy follows to perform operations between arrays of different shapes.\n",
        "                           # NumPy automatically stretches the smaller array to match the shape of the larger array before performing the operation.\n",
        "              # Rules of Broadcasting:\n",
        "                        # 1. Array with smaller ndim than the other is prepended with '1' in its shapem.\n",
        "                        # 2. Size in each dimension of the output shape is maximum of the input sizes in that dimensionm\n",
        "                        # 3. An input can be used in calculation, if its size in a particular dimension matches the output size or its value is exactly 1.\n",
        "                        # 4. If an input has a dimension size of 1, the first data entry in that dimension is used for all calculations along that dimension.\n",
        "\n",
        "                        # A set of arrays is said to be broadcastable if the above rules produce a valid result and one of the following is true.\n",
        "                          # 1. Arrays have exactly the same shape.\n",
        "                          # 2. Arrays have the same number of dimensions and the length of each dimension is either a common length or 1.\n",
        "                          # 3.Array having too few dimensions can have its shape prepended with a dimension of length 1, so that the above stated property is true.\n",
        "              # Example:\n",
        "                       import numpy as np\n",
        "                       arr = np.array([1, 2, 3, 4, 5])\n",
        "                       multiplier = np.array([2])\n",
        "                       result = arr * multiplier\n",
        "                       print(result)       # Output: [ 2  4  6  8 10]\n",
        "\n",
        "      # Vectorization and Broadcasting Contribute to Efficiency:\n",
        "                  # Optimized Operations: NumPy's underlying implementation leverages highly efficient algorithms and hardware-specific optimizations for vectorized operations.\n",
        "                  # Reduced Overhead: Avoiding explicit loops eliminates the overhead of loop control and function calls.\n",
        "                  # Memory Access Patterns: Vectorized operations often lead to more efficient memory access patterns, improving cache utilization.\n",
        "                  # Parallelism: Many NumPy operations can be parallelized, taking advantage of multiple cores or GPUs."
      ],
      "metadata": {
        "id": "gNG35WhZfpaX"
      },
      "execution_count": null,
      "outputs": []
    },
    {
      "cell_type": "markdown",
      "source": [
        "Practical Assignment"
      ],
      "metadata": {
        "id": "7QDi-6WlM8sB"
      }
    },
    {
      "cell_type": "code",
      "source": [
        "# 1. Create a 3x3 NumPy array with random integers between 1 and 100. Then, interchange its rows and columns.\n",
        "\n",
        "##\n",
        "import numpy as np\n",
        "\n",
        "array = np.random.randint(1, 101, size=(3, 3))\n",
        "print(\"Original array:\")\n",
        "print(array)\n",
        "\n",
        "transposed_array = array.T\n",
        "print(\"Transposed array:\")\n",
        "print(transposed_array)"
      ],
      "metadata": {
        "colab": {
          "base_uri": "https://localhost:8080/"
        },
        "id": "nRmxW1M9NCWY",
        "outputId": "95a7ca33-2fe0-4260-e0d6-14e172d2e6bc"
      },
      "execution_count": null,
      "outputs": [
        {
          "output_type": "stream",
          "name": "stdout",
          "text": [
            "Original array:\n",
            "[[51 43 54]\n",
            " [ 4 21  5]\n",
            " [36 22 54]]\n",
            "Transposed array:\n",
            "[[51  4 36]\n",
            " [43 21 22]\n",
            " [54  5 54]]\n"
          ]
        }
      ]
    },
    {
      "cell_type": "code",
      "source": [
        "# 2. Generate a 1D NumPy array with 10 elements. Reshape it into a 2x5 array, then into a 5x2 array.\n",
        "\n",
        "##\n",
        "import numpy as np\n",
        "\n",
        "array_1d = np.arange(1, 11)   # Generate a 1D array with 10 elements\n",
        "print(\"Original 1D array:\")\n",
        "print(array_1d)\n",
        "\n",
        "array_2x5 = array_1d.reshape(2, 5)     # Reshape the 1D array into a 2x5 array\n",
        "print(\"\\nReshaped to 2x5 array:\")\n",
        "print(array_2x5)\n",
        "\n",
        "array_5x2 = array_2x5.reshape(5, 2)    # Reshape the 2x5 array into a 5x2 array\n",
        "print(\"\\nReshaped to 5x2 array:\")\n",
        "print(array_5x2)"
      ],
      "metadata": {
        "colab": {
          "base_uri": "https://localhost:8080/"
        },
        "id": "i3I_7pF9NFaj",
        "outputId": "c3337b24-b4cd-4b7d-9516-fb88841f3880"
      },
      "execution_count": null,
      "outputs": [
        {
          "output_type": "stream",
          "name": "stdout",
          "text": [
            "Original 1D array:\n",
            "[ 1  2  3  4  5  6  7  8  9 10]\n",
            "\n",
            "Reshaped to 2x5 array:\n",
            "[[ 1  2  3  4  5]\n",
            " [ 6  7  8  9 10]]\n",
            "\n",
            "Reshaped to 5x2 array:\n",
            "[[ 1  2]\n",
            " [ 3  4]\n",
            " [ 5  6]\n",
            " [ 7  8]\n",
            " [ 9 10]]\n"
          ]
        }
      ]
    },
    {
      "cell_type": "code",
      "source": [
        "# 3. Create a 4x4 NumPy array with random float values. Add a border of zeros around it, resulting in a 6x6 array.\n",
        "\n",
        "##\n",
        "import numpy as np\n",
        "\n",
        "array_4x4 = np.random.rand(4, 4)     # Create a 4x4 array with random float values\n",
        "print(\"Original 4x4 array:\")\n",
        "print(array_4x4)\n",
        "\n",
        "array_6x6 = np.pad(array_4x4, pad_width=1, mode='constant', constant_values=0)    # Add a border of zeros around the 4x4 array to 6x6 array\n",
        "print(\"\\nArray with border of zeros (6x6):\")\n",
        "print(array_6x6)"
      ],
      "metadata": {
        "colab": {
          "base_uri": "https://localhost:8080/"
        },
        "id": "4on0Czh9Inn7",
        "outputId": "a7144fee-97bf-45ab-a0ae-4fc545a39efa"
      },
      "execution_count": null,
      "outputs": [
        {
          "output_type": "stream",
          "name": "stdout",
          "text": [
            "Original 4x4 array:\n",
            "[[0.29092552 0.77972896 0.74619218 0.44008945]\n",
            " [0.51681578 0.02510807 0.13201096 0.20774521]\n",
            " [0.63521096 0.67886534 0.37665545 0.9789081 ]\n",
            " [0.66503137 0.67557897 0.77342951 0.83085819]]\n",
            "\n",
            "Array with border of zeros (6x6):\n",
            "[[0.         0.         0.         0.         0.         0.        ]\n",
            " [0.         0.29092552 0.77972896 0.74619218 0.44008945 0.        ]\n",
            " [0.         0.51681578 0.02510807 0.13201096 0.20774521 0.        ]\n",
            " [0.         0.63521096 0.67886534 0.37665545 0.9789081  0.        ]\n",
            " [0.         0.66503137 0.67557897 0.77342951 0.83085819 0.        ]\n",
            " [0.         0.         0.         0.         0.         0.        ]]\n"
          ]
        }
      ]
    },
    {
      "cell_type": "code",
      "source": [
        "# 4. Using NumPy, create an array of integers from 10 to 60 with a step of 5.\n",
        "\n",
        "##\n",
        "import numpy as np\n",
        "\n",
        "array = np.arange(10, 61, 5)   # Create an array of integers from 10 to 60 with a step of 5\n",
        "print(\"Array with integers from 10 to 60 with a step of 5:\")\n",
        "print(array)"
      ],
      "metadata": {
        "colab": {
          "base_uri": "https://localhost:8080/"
        },
        "id": "28IIkoNKLODs",
        "outputId": "5fa540a0-6710-4595-db8c-96a54d7dd73f"
      },
      "execution_count": null,
      "outputs": [
        {
          "output_type": "stream",
          "name": "stdout",
          "text": [
            "Array with integers from 10 to 60 with a step of 5:\n",
            "[10 15 20 25 30 35 40 45 50 55 60]\n"
          ]
        }
      ]
    },
    {
      "cell_type": "code",
      "source": [
        "# 5. Create a NumPy array of strings ['python', 'numpy', 'pandas']. Apply different case transformations (uppercase, lowercase, title case, etc.) to each element.\n",
        "\n",
        "##\n",
        "import numpy as np\n",
        "\n",
        "array = np.array(['python', 'numpy', 'pandas'])    # Create a NumPy array of strings\n",
        "print(\"Original array:\")\n",
        "print(array)\n",
        "\n",
        "uppercase_array = np.char.upper(array)      # Apply different case transformations\n",
        "lowercase_array = np.char.lower(array)\n",
        "titlecase_array = np.char.title(array)\n",
        "swapcase_array = np.char.swapcase(array)\n",
        "capitalize_array = np.char.capitalize(array)\n",
        "\n",
        "print(\"\\nUppercase transformation:\")\n",
        "print(uppercase_array)\n",
        "\n",
        "print(\"\\nLowercase transformation:\")\n",
        "print(lowercase_array)\n",
        "\n",
        "print(\"\\nTitle case transformation:\")\n",
        "print(titlecase_array)\n",
        "\n",
        "print(\"\\nSwap case transformation:\")\n",
        "print(swapcase_array)\n",
        "\n",
        "print(\"\\nCapitalized transformation:\")\n",
        "print(capitalize_array)"
      ],
      "metadata": {
        "colab": {
          "base_uri": "https://localhost:8080/"
        },
        "id": "_nee_7AvOFVS",
        "outputId": "1389361d-6891-4c2a-89a0-02bc38141c8a"
      },
      "execution_count": null,
      "outputs": [
        {
          "output_type": "stream",
          "name": "stdout",
          "text": [
            "Original array:\n",
            "['python' 'numpy' 'pandas']\n",
            "\n",
            "Uppercase transformation:\n",
            "['PYTHON' 'NUMPY' 'PANDAS']\n",
            "\n",
            "Lowercase transformation:\n",
            "['python' 'numpy' 'pandas']\n",
            "\n",
            "Title case transformation:\n",
            "['Python' 'Numpy' 'Pandas']\n",
            "\n",
            "Swap case transformation:\n",
            "['PYTHON' 'NUMPY' 'PANDAS']\n",
            "\n",
            "Capitalized transformation:\n",
            "['Python' 'Numpy' 'Pandas']\n"
          ]
        }
      ]
    },
    {
      "cell_type": "code",
      "source": [
        "# 6. Generate a NumPy array of words. Insert a space between each character of every word in the array.\n",
        "\n",
        "##\n",
        "import numpy as np\n",
        "\n",
        "words = np.array([\"suman\", \"saikat\", \"pwskills\", \"bird\"])   # Create a NumPy array of words\n",
        "\n",
        "spaced_words = np.char.join(' ', words)   # Insert a space between each character of every word\n",
        "\n",
        "print(\"Original Array:\")\n",
        "print(words)\n",
        "print(\"\\nArray with Spaces Between Characters:\")\n",
        "print(spaced_words)"
      ],
      "metadata": {
        "colab": {
          "base_uri": "https://localhost:8080/"
        },
        "id": "8qI6sR_ekbNh",
        "outputId": "1db0d1c3-25aa-446f-dd0d-9b13a6cc4914"
      },
      "execution_count": null,
      "outputs": [
        {
          "output_type": "stream",
          "name": "stdout",
          "text": [
            "Original Array:\n",
            "['suman' 'saikat' 'pwskills' 'bird']\n",
            "\n",
            "Array with Spaces Between Characters:\n",
            "['s u m a n' 's a i k a t' 'p w s k i l l s' 'b i r d']\n"
          ]
        }
      ]
    },
    {
      "cell_type": "code",
      "source": [
        "# 7. Create two 2D NumPy arrays and perform element-wise addition, subtraction, multiplication, and division.\n",
        "\n",
        "##\n",
        "import numpy as np\n",
        "\n",
        "array1 = np.array([[1, 2, 3], [4, 5, 6]])        # Create two 2D NumPy arrays\n",
        "array2 = np.array([[7, 8, 9], [10, 11, 12]])\n",
        "\n",
        "addition = np.add(array1, array2)     # Perform element-wise addition\n",
        "\n",
        "subtraction = np.subtract(array1, array2)    # Perform element-wise subtraction\n",
        "\n",
        "multiplication = np.multiply(array1, array2)     # Perform element-wise multiplication\n",
        "\n",
        "division = np.divide(array1, array2)    # Perform element-wise division\n",
        "\n",
        "print(\"\\nArray 1:\")\n",
        "print(array1)\n",
        "print(\"\\nArray 2:\")\n",
        "print(array2)\n",
        "print(\"\\nElement-wise Addition:\")\n",
        "print(addition)\n",
        "print(\"\\nElement-wise Subtraction:\")\n",
        "print(subtraction)\n",
        "print(\"\\nElement-wise Multiplication:\")\n",
        "print(multiplication)\n",
        "print(\"\\nElement-wise Division:\")\n",
        "print(division)"
      ],
      "metadata": {
        "colab": {
          "base_uri": "https://localhost:8080/"
        },
        "id": "FIwS7g50n-rH",
        "outputId": "8fe71f2c-b8db-455d-e46e-139d4dea4d13"
      },
      "execution_count": null,
      "outputs": [
        {
          "output_type": "stream",
          "name": "stdout",
          "text": [
            "\n",
            "Array 1:\n",
            "[[1 2 3]\n",
            " [4 5 6]]\n",
            "\n",
            "Array 2:\n",
            "[[ 7  8  9]\n",
            " [10 11 12]]\n",
            "\n",
            "Element-wise Addition:\n",
            "[[ 8 10 12]\n",
            " [14 16 18]]\n",
            "\n",
            "Element-wise Subtraction:\n",
            "[[-6 -6 -6]\n",
            " [-6 -6 -6]]\n",
            "\n",
            "Element-wise Multiplication:\n",
            "[[ 7 16 27]\n",
            " [40 55 72]]\n",
            "\n",
            "Element-wise Division:\n",
            "[[0.14285714 0.25       0.33333333]\n",
            " [0.4        0.45454545 0.5       ]]\n"
          ]
        }
      ]
    },
    {
      "cell_type": "code",
      "source": [
        "# 8. Use NumPy to create a 5x5 identity matrix, then extract its diagonal elements.\n",
        "\n",
        "##\n",
        "import numpy as np\n",
        "\n",
        "identity_matrix = np.identity(5)    # Create a 5x5 identity matrix\n",
        "\n",
        "diagonal_elements = np.diag(identity_matrix)    # Extract the diagonal elements\n",
        "\n",
        "print(\"5x5 Identity Matrix:\")\n",
        "print(identity_matrix)\n",
        "print(\"\\nDiagonal Elements:\")\n",
        "print(diagonal_elements)"
      ],
      "metadata": {
        "colab": {
          "base_uri": "https://localhost:8080/"
        },
        "id": "zQ1B_oR_r7rQ",
        "outputId": "795fd323-db9b-4f40-d513-8cd5a653617f"
      },
      "execution_count": null,
      "outputs": [
        {
          "output_type": "stream",
          "name": "stdout",
          "text": [
            "5x5 Identity Matrix:\n",
            "[[1. 0. 0. 0. 0.]\n",
            " [0. 1. 0. 0. 0.]\n",
            " [0. 0. 1. 0. 0.]\n",
            " [0. 0. 0. 1. 0.]\n",
            " [0. 0. 0. 0. 1.]]\n",
            "\n",
            "Diagonal Elements:\n",
            "[1. 1. 1. 1. 1.]\n"
          ]
        }
      ]
    },
    {
      "cell_type": "code",
      "source": [
        "# 9. Generate a NumPy array of 100 random integers between 0 and 1000. Find and display all prime numbers in this array.\n",
        "\n",
        "##\n",
        "import numpy as np\n",
        "\n",
        "random_integers = np.random.randint(0, 1001, size=100)    # Generate an array of 100 random integers between 0 and 1000\n",
        "\n",
        "def is_prime(n):          # Function to check if a number is prime\n",
        "    if n < 2:\n",
        "        return False\n",
        "    for i in range(2, int(n**0.5) + 1):\n",
        "        if n % i == 0:\n",
        "            return False\n",
        "    return True\n",
        "\n",
        "prime_numbers = [num for num in random_integers if is_prime(num)]     # Find all prime numbers in the array\n",
        "\n",
        "print(\"Random Integers:\")\n",
        "print(random_integers)\n",
        "print(\"\\nPrime Numbers:\")\n",
        "print(prime_numbers)"
      ],
      "metadata": {
        "id": "k5K3KNWitsZP",
        "colab": {
          "base_uri": "https://localhost:8080/"
        },
        "outputId": "f1e0fea9-e052-414e-ac63-3209cb65def6"
      },
      "execution_count": 1,
      "outputs": [
        {
          "output_type": "stream",
          "name": "stdout",
          "text": [
            "Random Integers:\n",
            "[827 175 354 593 815  32 225 149 599 868 170 662 391 376  58 673 537 512\n",
            "   3 388 665 243 264 818 407 706  17 652 723 479  50 698 228 329 967 833\n",
            " 268 297 457 125 617 271 259 236 982 530 247 589 138 427 495 989 518 201\n",
            " 247 477 697 294 605 856 567 331  44 374 978 691 873 878 798 652 950  54\n",
            " 371 702 711 336 866 842 221 523 388 283 978 824 649 540 171 131 729 778\n",
            " 557 976 391 881 572 655 120 775 929 276]\n",
            "\n",
            "Prime Numbers:\n",
            "[827, 593, 149, 599, 673, 3, 17, 479, 967, 457, 617, 271, 331, 691, 523, 283, 131, 557, 881, 929]\n"
          ]
        }
      ]
    },
    {
      "cell_type": "code",
      "source": [
        "# 10. Create a NumPy array representing daily temperatures for a month. Calculate and display the weekly averages.\n",
        "\n",
        "##\n",
        "import numpy as np\n",
        "\n",
        "daily_temperatures = np.random.randint(20, 50, size=30)  # Create a NumPy array with random temperatures for 30 days\n",
        "                                                         # Temperatures between 20°C and 40°C\n",
        "\n",
        "weekly_averages = [np.mean(daily_temperatures[i:i+7]) for i in range(0, len(daily_temperatures), 7)]     # Calculate weekly averages\n",
        "\n",
        "print(\"Daily Temperatures:\")\n",
        "print(daily_temperatures)\n",
        "print(\"Weekly Averages:\")\n",
        "print(weekly_averages)"
      ],
      "metadata": {
        "colab": {
          "base_uri": "https://localhost:8080/"
        },
        "id": "DZxHZLmJG9t2",
        "outputId": "545a48e0-3d2f-4514-c17c-49b510faa299"
      },
      "execution_count": 4,
      "outputs": [
        {
          "output_type": "stream",
          "name": "stdout",
          "text": [
            "Daily Temperatures:\n",
            "[25 41 39 37 37 45 47 27 42 23 34 27 22 48 44 37 38 33 38 38 25 34 38 38\n",
            " 33 31 24 46 35 37]\n",
            "Weekly Averages:\n",
            "[38.714285714285715, 31.857142857142858, 36.142857142857146, 34.857142857142854, 36.0]\n"
          ]
        }
      ]
    },
    {
      "cell_type": "code",
      "source": [],
      "metadata": {
        "id": "36nPjEbBKVRE"
      },
      "execution_count": null,
      "outputs": []
    }
  ]
}